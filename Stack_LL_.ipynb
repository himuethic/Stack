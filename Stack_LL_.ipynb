{
  "cells": [
    {
      "cell_type": "markdown",
      "metadata": {
        "id": "view-in-github",
        "colab_type": "text"
      },
      "source": [
        "<a href=\"https://colab.research.google.com/github/himuethic/Stack/blob/main/Stack_LL_.ipynb\" target=\"_parent\"><img src=\"https://colab.research.google.com/assets/colab-badge.svg\" alt=\"Open In Colab\"/></a>"
      ]
    },
    {
      "cell_type": "code",
      "execution_count": 123,
      "metadata": {
        "id": "kq404cALKILz"
      },
      "outputs": [],
      "source": [
        "class Node:\n",
        "  def __init__(self, value):\n",
        "   self.data = value\n",
        "   self.next = None"
      ]
    },
    {
      "cell_type": "code",
      "execution_count": 124,
      "metadata": {
        "id": "zZvTjQjzNsrT"
      },
      "outputs": [],
      "source": [
        "class Node:\n",
        "    def __init__(self, data):\n",
        "        self.data = data\n",
        "        self.next = None\n",
        "\n",
        "class Stack:\n",
        "    def __init__(self):\n",
        "        self.top = None\n",
        "\n",
        "    def isempty(self):\n",
        "        return self.top is None\n",
        "\n",
        "    def push(self, value):\n",
        "        new_Node = Node(value)\n",
        "        new_Node.next = self.top\n",
        "        self.top = new_Node\n",
        "\n",
        "    def peek(self):\n",
        "        if self.isempty():\n",
        "            return 'Stack is empty'\n",
        "        else:\n",
        "            return self.top.data\n",
        "\n",
        "    def pop(self):\n",
        "        if self.isempty():\n",
        "            return 'Stack is empty'\n",
        "        else:\n",
        "            data = self.top.data\n",
        "            self.top = self.top.next\n",
        "            return data\n",
        "\n",
        "    def size(self):\n",
        "        count = 0\n",
        "        temp = self.top\n",
        "        while temp is not None:\n",
        "            count += 1\n",
        "            temp = temp.next\n",
        "        return count\n",
        "\n",
        "    def traverse(self):\n",
        "        temp = self.top\n",
        "        while temp is not None:\n",
        "            print(temp.data)\n",
        "            temp = temp.next"
      ]
    },
    {
      "cell_type": "code",
      "execution_count": null,
      "metadata": {
        "id": "7__U_nhwNEvf"
      },
      "outputs": [],
      "source": [
        "h = Stack()"
      ]
    },
    {
      "cell_type": "code",
      "execution_count": 125,
      "metadata": {
        "colab": {
          "base_uri": "https://localhost:8080/"
        },
        "id": "V2Pl-qw2NI52",
        "outputId": "bd14fba7-4356-4e8f-bc3a-9e3bb4d9f7a2"
      },
      "outputs": [
        {
          "output_type": "execute_result",
          "data": {
            "text/plain": [
              "False"
            ]
          },
          "metadata": {},
          "execution_count": 125
        }
      ],
      "source": [
        "h.isempty()"
      ]
    },
    {
      "cell_type": "code",
      "execution_count": 126,
      "metadata": {
        "id": "F90KirYYNKgc"
      },
      "outputs": [],
      "source": [
        "h.push(2)"
      ]
    },
    {
      "cell_type": "code",
      "execution_count": 127,
      "metadata": {
        "colab": {
          "base_uri": "https://localhost:8080/"
        },
        "id": "rLg3vPZINtPa",
        "outputId": "fd6351ac-c0bb-40c3-d9b7-fbdfb12087bd"
      },
      "outputs": [
        {
          "output_type": "execute_result",
          "data": {
            "text/plain": [
              "False"
            ]
          },
          "metadata": {},
          "execution_count": 127
        }
      ],
      "source": [
        "h.isempty()"
      ]
    },
    {
      "cell_type": "code",
      "execution_count": 128,
      "metadata": {
        "id": "7hYQ-F-QN04_"
      },
      "outputs": [],
      "source": [
        "h.push(3)\n",
        "h.push(4)\n",
        "h.push(5)"
      ]
    },
    {
      "cell_type": "code",
      "execution_count": 129,
      "metadata": {
        "colab": {
          "base_uri": "https://localhost:8080/"
        },
        "id": "LMAwtJsLOCwZ",
        "outputId": "76ca3fee-c61c-4741-d5ec-585022d9568f"
      },
      "outputs": [
        {
          "output_type": "stream",
          "name": "stdout",
          "text": [
            "5\n",
            "4\n",
            "3\n",
            "2\n",
            "4\n",
            "3\n",
            "2\n",
            "4\n",
            "3\n",
            "2\n"
          ]
        }
      ],
      "source": [
        "h.traverse()"
      ]
    },
    {
      "cell_type": "code",
      "execution_count": 130,
      "metadata": {
        "colab": {
          "base_uri": "https://localhost:8080/"
        },
        "id": "zpcCl5SzPfRW",
        "outputId": "5346f64b-45a0-48a7-b0a5-84417f41f3b7"
      },
      "outputs": [
        {
          "output_type": "execute_result",
          "data": {
            "text/plain": [
              "5"
            ]
          },
          "metadata": {},
          "execution_count": 130
        }
      ],
      "source": [
        "h.peek()"
      ]
    },
    {
      "cell_type": "code",
      "execution_count": 131,
      "metadata": {
        "colab": {
          "base_uri": "https://localhost:8080/"
        },
        "id": "-J9aHC1VPq9g",
        "outputId": "33adc139-0554-404c-feb3-c51572e7b357"
      },
      "outputs": [
        {
          "output_type": "execute_result",
          "data": {
            "text/plain": [
              "5"
            ]
          },
          "metadata": {},
          "execution_count": 131
        }
      ],
      "source": [
        "h.pop()"
      ]
    },
    {
      "cell_type": "code",
      "execution_count": 132,
      "metadata": {
        "id": "Pb55hiXfR8a4"
      },
      "outputs": [],
      "source": [
        "def reverse_string(text):\n",
        "\n",
        "   s = Stack()\n",
        "\n",
        "\n",
        "   for i in text:\n",
        "     s.push(i)\n",
        "\n",
        "\n",
        "   res = \"\"\n",
        "\n",
        "   while (not s.isempty()):\n",
        "     res = res + s.pop()\n",
        "\n",
        "   print(res)"
      ]
    },
    {
      "cell_type": "code",
      "execution_count": 133,
      "metadata": {
        "colab": {
          "base_uri": "https://localhost:8080/"
        },
        "id": "fczuwnEsS7_v",
        "outputId": "7a8fa281-4398-434d-e9ee-a6c73eb032c6"
      },
      "outputs": [
        {
          "output_type": "stream",
          "name": "stdout",
          "text": [
            "zyx\n"
          ]
        }
      ],
      "source": [
        "reverse_string(\"xyz\")"
      ]
    },
    {
      "cell_type": "code",
      "execution_count": 134,
      "metadata": {
        "id": "_3q_zUh5WiN4"
      },
      "outputs": [],
      "source": [
        "def text_editor(text,pattern):\n",
        "  U = Stack()\n",
        "  R = Stack()\n",
        "\n",
        "  for i in text:\n",
        "    U.push(i)\n",
        "\n",
        "  for i in pattern:\n",
        "\n",
        "    if i =='U':\n",
        "      data = U.pop()\n",
        "      R.push(data)\n",
        "    else:\n",
        "      data = R.pop()\n",
        "      U.push(data)\n",
        "\n",
        "  res = \"\"\n",
        "\n",
        "\n",
        "  while(not U.isempty()):\n",
        "     res = U.pop() + res\n",
        "\n",
        "  print(res)"
      ]
    },
    {
      "cell_type": "code",
      "execution_count": 135,
      "metadata": {
        "colab": {
          "base_uri": "https://localhost:8080/"
        },
        "id": "AMxmu3wFY1IU",
        "outputId": "77ce9f09-5628-4854-e5d3-4f89a42a1027"
      },
      "outputs": [
        {
          "output_type": "stream",
          "name": "stdout",
          "text": [
            "Del\n"
          ]
        }
      ],
      "source": [
        "text_editor(\"Delhi\",\"UUUR\")"
      ]
    },
    {
      "cell_type": "code",
      "execution_count": 136,
      "metadata": {
        "id": "inglsO4qxB9q"
      },
      "outputs": [],
      "source": [
        "L = [\n",
        "     [0,0,1,1],\n",
        "     [0,0,1,0],\n",
        "     [0,0,0,0],\n",
        "     [0,0,1,0],\n",
        "]"
      ]
    },
    {
      "cell_type": "code",
      "source": [
        "def find_the_celeb(L):\n",
        "    s = Stack()\n",
        "\n",
        "    for i in range(len(L)):\n",
        "        s.push(i)\n",
        "\n",
        "    while s.size() >= 2:\n",
        "        i = s.pop()\n",
        "        j = s.pop()\n",
        "\n",
        "        if L[i][j] == 0:\n",
        "            s.push(i)\n",
        "        else:\n",
        "            s.push(j)\n",
        "\n",
        "    celeb = s.pop()\n",
        "\n",
        "    for i in range(len(L)):\n",
        "        if i != celeb:\n",
        "            if L[i][celeb] == 0 or L[celeb][i] == 1:\n",
        "                print(\"No celebrity\")\n",
        "                return\n",
        "\n",
        "    print(\"The celebrity is\", celeb)"
      ],
      "metadata": {
        "id": "PKmyM-ZfB9ps"
      },
      "execution_count": 139,
      "outputs": []
    },
    {
      "cell_type": "code",
      "source": [
        "find_the_celeb(L)"
      ],
      "metadata": {
        "colab": {
          "base_uri": "https://localhost:8080/"
        },
        "id": "H4HsJsPGCGw3",
        "outputId": "b5a956ca-7065-425d-b8c9-d91ceae844f4"
      },
      "execution_count": 140,
      "outputs": [
        {
          "output_type": "stream",
          "name": "stdout",
          "text": [
            "The celebrity is 2\n"
          ]
        }
      ]
    }
  ],
  "metadata": {
    "colab": {
      "provenance": [],
      "authorship_tag": "ABX9TyP+qrgtVn/PAz5iEQRkjtZG",
      "include_colab_link": true
    },
    "kernelspec": {
      "display_name": "Python 3",
      "name": "python3"
    },
    "language_info": {
      "name": "python"
    }
  },
  "nbformat": 4,
  "nbformat_minor": 0
}